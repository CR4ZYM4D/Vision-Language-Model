{
 "cells": [
  {
   "cell_type": "code",
   "execution_count": null,
   "id": "a118f7a4",
   "metadata": {},
   "outputs": [],
   "source": [
    "import torch\n",
    "import torch.nn as nn"
   ]
  },
  {
   "cell_type": "code",
   "execution_count": 1,
   "id": "34229a2f",
   "metadata": {},
   "outputs": [],
   "source": [
    "vector_dimension = 768 \n",
    "\n",
    "linear_dimension = 3072 # dimension of the linear layer of feed forward for normalization\n",
    "\n",
    "image_size = 224 # pixels in each dimension of image\n",
    "\n",
    "num_channels = 3 # number of channels in image (R, G, B)\n",
    "\n",
    "patch_size = 16 # number of patches/ blocks we break each image into\n",
    "\n",
    "attention_heads = 12 # number of attention heads\n",
    "\n",
    "num_layers = 12 # number of transformer block layers in the model\n",
    "\n",
    "dropout = 0.4\n",
    "\n",
    "normalization_constant = 1e-6 # proportionality constant for normalization layer\n",
    "\n",
    "num_image_tokens : int = None # number of tokens produced for each image i.e. it produces a list of vectors/ embeddings for a patch of each image"
   ]
  }
 ],
 "metadata": {
  "kernelspec": {
   "display_name": "cuda",
   "language": "python",
   "name": "gpt"
  }
 },
 "nbformat": 4,
 "nbformat_minor": 5
}
